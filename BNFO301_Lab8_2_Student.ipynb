{
  "nbformat": 4,
  "nbformat_minor": 0,
  "metadata": {
    "colab": {
      "provenance": [],
      "include_colab_link": true
    },
    "kernelspec": {
      "name": "python3",
      "display_name": "Python 3"
    },
    "language_info": {
      "name": "python"
    }
  },
  "cells": [
    {
      "cell_type": "markdown",
      "metadata": {
        "id": "view-in-github",
        "colab_type": "text"
      },
      "source": [
        "<a href=\"https://colab.research.google.com/github/NyaH10/CMSC-355-Redo-Demo/blob/main/BNFO301_Lab8_2_Student.ipynb\" target=\"_parent\"><img src=\"https://colab.research.google.com/assets/colab-badge.svg\" alt=\"Open In Colab\"/></a>"
      ]
    },
    {
      "cell_type": "markdown",
      "source": [
        "Lab 8.2. Binding sites in genomes continued.\n",
        "\n",
        "\n",
        "Last week we learned how to identify a motif, the RNA polymerase binding site \"TATAAT\", within a genome, given an idealized logo.  We also learned how to simulated a genome with similar characteristics to our 'real' genome.  This week will continue the excercise by implementing our simulation within a loop and sumarizing base frequences, both in the overall genome and within the RNA polymerase bidning motif, from multiple simulations.\n",
        "\n",
        "As I noted in our lecture last week, we can apply many of the skills covered in lab 8 in motif discovery.  I encourage you to think about this when working on group project 2, as many common motifs were originally identifed using similar tools.\n",
        "\n",
        "After we complete the two questions below, there will be time for each group to meet with the instructor and recieve personalized feedback on your project 2 progress.  \n",
        "\n",
        "This lab is worth 10 points.\n",
        "\n",
        "Question 1. 4 points.\n",
        "\n",
        "Question 2. 6 points.\n"
      ],
      "metadata": {
        "id": "mkwP0IXdsMaQ"
      }
    },
    {
      "cell_type": "markdown",
      "source": [
        "Please run this box to load data and definitions from last week"
      ],
      "metadata": {
        "id": "_gtDnjX6sScm"
      }
    },
    {
      "cell_type": "code",
      "execution_count": 1,
      "metadata": {
        "id": "dlKV2tlOrHIi"
      },
      "outputs": [],
      "source": [
        "import numpy as np\n",
        "import re\n",
        "ProvidedSequence = \"TATAATGTCAGTCAGTCAGTCAGTCATATAATGTCAGTCAGTCAGTCAGTCATATAATGTCAGTCAGTCAGTCAGTCATATAATGTCAGTCAGTCAGTCAGTCATATAATGTCAGTCAGTCAGTCAGTCATATAATGTCAGTCAGTCAGTCAGTCATATAATGTCAGTCAGTCAGTCAGTCATATAATGTCAGTCAGTCAGTCAGTCATATAATGTCAGTCAGTCAGTCAGTCATATAATGTCAGTCAGTCAGTCAGTCATAGGGTGTCAGTCAGTCAGTCAGTCATAGGGTGTCAGTCAGTCAGTCAGTCATACCCTGTCAGTCAGTCAGTCAGTCATACCCTGTCAGTCAGTCAGTCAGTCATAATTTGTCAGTCAGTCAGTCAGTCATAATTTGTCAGTCAGTCAGTCAGTCA\"\n",
        "\n",
        "def genomeBaseFreq(genome):\n",
        "  base_counts = {'A':0,'T':0,'C':0,'G':0}\n",
        "  genome_length = len(genome)\n",
        "  for base in genome:\n",
        "    if base in base_counts:\n",
        "      base_counts[base] += 1\n",
        "  fractions = {base: base_counts[base]/genome_length for base in base_counts}\n",
        "  return fractions\n",
        "\n",
        "def simulateGenome(genome):\n",
        "  baseDict = genomeBaseFreq(genome)\n",
        "  genomeLength = len(genome)\n",
        "  states = []\n",
        "  baseFreq = []\n",
        "  for k,v in baseDict.items():\n",
        "    states.append(k)\n",
        "    baseFreq.append(v)\n",
        "  draft_seq = np.random.choice(states, genomeLength, p=baseFreq)\n",
        "  return ''.join(draft_seq)\n"
      ]
    },
    {
      "cell_type": "markdown",
      "source": [
        "Problem 1. Multiple simulations.\n",
        "\n",
        "Create a definition to implement the \"simulateGenome\" function and generate 100 simulated sequences.  Your definition should print the average base frequencies of A, T, C, and G from all siulated sequences."
      ],
      "metadata": {
        "id": "uo7uPmaSsP4Y"
      }
    },
    {
      "cell_type": "code",
      "source": [
        "#############################################\n",
        "#\n",
        "# create a definition to implement the definition \"simGenome\" and generate 100 simulated sequences\n",
        "# next, calculate and print to screen the mean base frequencies\n",
        "#\n",
        "#############################################\n",
        "\n",
        "def multipleSims(observedgenome):\n",
        "\n",
        "  for i in range(100):\n",
        "   simulated_data =  simulateGenome(observedgenome)\n",
        "\n",
        "   avg_base_freq = genomeBaseFreq(simulated_data)\n",
        "\n",
        "\n",
        "  print(avg_base_freq)\n",
        "\n",
        "\n",
        "\n",
        "\n",
        "\n",
        "\n",
        "\n",
        "\n",
        "\n",
        "\n",
        "########################################\n",
        "#\n",
        "# test your definition\n",
        "# note: this is a simulation, your results may differ from the real data or the answer in the key\n",
        "#\n",
        "#########################################\n",
        "\n",
        "multipleSims(ProvidedSequence)"
      ],
      "metadata": {
        "colab": {
          "base_uri": "https://localhost:8080/"
        },
        "id": "2AT4QOlltkyR",
        "outputId": "70ea385d-05f7-44e0-c7a2-45c6eb363b4c"
      },
      "execution_count": 2,
      "outputs": [
        {
          "output_type": "stream",
          "name": "stdout",
          "text": [
            "{'A': 0.2283653846153846, 'T': 0.3389423076923077, 'C': 0.21153846153846154, 'G': 0.22115384615384615}\n"
          ]
        }
      ]
    },
    {
      "cell_type": "markdown",
      "source": [
        "Problem 2. Examine the motif within multiple simulations.\n",
        "\n",
        "Create a definition to implement the \"simulateGenome\" function and generate 100 simulated sequences.  Within each simulation identify the RNA polymerase binding motif.  Your definition print to screen to elements.  First, the mean number of motifs discovered in the simulated genomes.  Second, the mean base frequencies at each index in the motif."
      ],
      "metadata": {
        "id": "WyiCSauiwsrQ"
      }
    },
    {
      "cell_type": "code",
      "source": [
        "#############################################\n",
        "#\n",
        "# create a definition to implement the definition \"simulateGenome\" and generate 100 simulated sequences,\n",
        "# next, calculate and print to screen the mean number of motifs detected in the simulations\n",
        "# next, calculate and print to screen the mean base frequency for each index in the pribnow box\n",
        "# recall your pattern for the RNA polymerase binding site is 'TA[TACG]{3}T'\n",
        "#\n",
        "#############################################\n",
        "\n",
        "def simSite(observedgenome):\n",
        "\n",
        "  for i in range(100):\n",
        "    simulated_data =  simulateGenome(observedgenome)\n",
        "    base_freq = genomeBaseFreq(simulated_data)\n",
        "    pattern = 'TA[ATCG]{3}T'\n",
        "    matches = re.findall(pattern, simulated_data)\n",
        "  print(len(matches))\n",
        "\n",
        "\n",
        "  for i in range(len(matches[0])):\n",
        "    base_freq = {'A': 0, 'T': 0, 'C' : 0, \"G\" : 0 }\n",
        "    for j in matches:\n",
        "      base_freq[j[i]] += 1\n",
        "    for k,v in base_freq.items():\n",
        "      v2 = v/len(matches)\n",
        "      print(k, v2)\n",
        "    print()\n",
        "\n",
        "  #find the fraction of each base at each position of best access\n",
        "  #all simulation\n",
        "\n",
        "\n",
        "\n",
        "\n",
        "\n",
        "\n",
        "\n",
        "\n",
        "\n",
        "\n",
        "\n",
        "\n",
        "\n",
        "\n",
        "########################################\n",
        "#\n",
        "# test your definition\n",
        "# note: this is a simulation, your results may differ from the real data or the answer in the key\n",
        "#\n",
        "#########################################\n",
        "\n",
        "simSite(ProvidedSequence)"
      ],
      "metadata": {
        "colab": {
          "base_uri": "https://localhost:8080/"
        },
        "id": "98Fl16lFyNw1",
        "outputId": "a15f6e13-b89e-4ca0-d239-ac54ad5026fc"
      },
      "execution_count": 25,
      "outputs": [
        {
          "output_type": "stream",
          "name": "stdout",
          "text": [
            "10\n",
            "A 0.0\n",
            "T 1.0\n",
            "C 0.0\n",
            "G 0.0\n",
            "\n",
            "A 1.0\n",
            "T 0.0\n",
            "C 0.0\n",
            "G 0.0\n",
            "\n",
            "A 0.5\n",
            "T 0.3\n",
            "C 0.1\n",
            "G 0.1\n",
            "\n",
            "A 0.4\n",
            "T 0.1\n",
            "C 0.3\n",
            "G 0.2\n",
            "\n",
            "A 0.3\n",
            "T 0.5\n",
            "C 0.2\n",
            "G 0.0\n",
            "\n",
            "A 0.0\n",
            "T 1.0\n",
            "C 0.0\n",
            "G 0.0\n",
            "\n"
          ]
        }
      ]
    }
  ]
}